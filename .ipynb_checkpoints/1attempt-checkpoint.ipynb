{
 "cells": [
  {
   "cell_type": "code",
   "execution_count": 315,
   "metadata": {
    "collapsed": false
   },
   "outputs": [],
   "source": [
    "import numpy as np\n",
    "\n",
    "class Neuron:\n",
    "    def __init__(self, in_size, alpha):\n",
    "        self.weights = np.random.uniform(low = -0.1, high = 0.1, size = in_size + 1)\n",
    "        self.alpha = alpha\n",
    "        self.out = 0\n",
    "        \n",
    "    def actvF(self, s):\n",
    "        return 1/(1 + np.exp(-s))\n",
    "        \n",
    "    def spike(self, sample):\n",
    "        s = sum(self.weights * np.append(sample, 1))\n",
    "        self.out = self.actvF(s)\n",
    "        return self.out\n",
    "        \n",
    "    def learn(self, sample, sigma, nxt_wt = None):\n",
    "        sample = np.append(sample, 1)\n",
    "        if not nxt_wt:\n",
    "            # this is a neuron of the last layer\n",
    "            for i in range(len(self.weights)):\n",
    "                self.weights[i] -= self.alpha * sigma * sample[i]\n",
    "        else:\n",
    "            for i in range(len(self.weights)):\n",
    "                self.weights[i] -= self.alpha * sum(sigma * nxt_wt) * self.out * (1 - self.out) * sample[i]\n",
    "                "
   ]
  },
  {
   "cell_type": "code",
   "execution_count": 316,
   "metadata": {
    "collapsed": false
   },
   "outputs": [],
   "source": [
    "class NLayer:\n",
    "    def __init__(self, in_size, n_neurons, alpha, nxt = None):\n",
    "        self.in_size = in_size\n",
    "        self.n_neurons = n_neurons\n",
    "        self.neurons = np.empty(n_neurons, dtype = object)\n",
    "        for i in range(self.n_neurons):\n",
    "            self.neurons[i] = Neuron(in_size, alpha)\n",
    "        self.nxt = nxt\n",
    "            \n",
    "    def setInput(self, sample):\n",
    "        self.in_signal = sample\n",
    "        \n",
    "    def process(self):\n",
    "        for i in range(self.n_neurons):\n",
    "            self.neurons[i].spike(self.in_signal)\n",
    "            \n",
    "    def learn(self, sigmas):\n",
    "        if not self.nxt:\n",
    "            # this is the last layer\n",
    "            for k in range(self.n_neurons):\n",
    "                self.neurons[k].learn(self.in_signal, sigmas[k])\n",
    "        else:\n",
    "            for k in range(self.n_neurons):\n",
    "                nxt_wt = np.zeros(self.nxt.n_neurons)\n",
    "                for i in range(self.nxt.n_neurons):\n",
    "                    nxt_wt[i] = self.nxt.neurons[i].weights[k]\n",
    "                self.neurons[k].learn(self.in_signal, sigmas, nxt_wt)"
   ]
  },
  {
   "cell_type": "code",
   "execution_count": 497,
   "metadata": {
    "collapsed": false
   },
   "outputs": [],
   "source": [
    "last = NLayer(12, 1, 0.1)\n",
    "hidden = NLayer(6, 12, 0.1, nxt = last)"
   ]
  },
  {
   "cell_type": "code",
   "execution_count": 498,
   "metadata": {
    "collapsed": false
   },
   "outputs": [
    {
     "name": "stdout",
     "output_type": "stream",
     "text": [
      "0.653875985769\n",
      "0.448014492962\n",
      "0.596094019083\n"
     ]
    }
   ],
   "source": [
    "for j in range(1000):\n",
    "    x = np.random.uniform(low = -1, high = 1)\n",
    "    if x >= 0:\n",
    "        instance = np.array([0.9, 0.1, 0.1, 0.1, 0.1, 0.9])\n",
    "        d = np.array([1.])\n",
    "    else:\n",
    "        instance = np.array([0.1, 0.1, 0.9, 0.9, 0.1, 0.1])\n",
    "        d = np.array([0.])\n",
    "    # forwardprop\n",
    "    hidden.setInput(instance)\n",
    "    hidden.process()\n",
    "    intermediate = np.empty(hidden.n_neurons)\n",
    "    for i in range(hidden.n_neurons):\n",
    "        intermediate[i] = hidden.neurons[i].out\n",
    "\n",
    "    last.setInput(intermediate)\n",
    "    last.process()\n",
    "\n",
    "    sigmas = np.empty(1)\n",
    "    for i in range(len(sigmas)):\n",
    "        sigmas[i] = (last.neurons[i].out - d[i]) * last.neurons[i].out * (1 - last.neurons[i].out)\n",
    "\n",
    "    # backprop\n",
    "    last.learn(sigmas)\n",
    "    hidden.learn(sigmas)\n",
    "    \n",
    "instance = np.array([0.9, 0.1, 0.1, 0.1, 0.1, 0.9])\n",
    "hidden.setInput(instance)\n",
    "hidden.process()\n",
    "intermediate = np.empty(hidden.n_neurons)\n",
    "for i in range(hidden.n_neurons):\n",
    "    intermediate[i] = hidden.neurons[i].out\n",
    "\n",
    "last.setInput(intermediate)\n",
    "last.process()\n",
    "print(last.neurons[0].out)\n",
    "\n",
    "instance = np.array([0.1, 0.1, 0.9, 0.9, 0.1, 0.1])\n",
    "hidden.setInput(instance)\n",
    "hidden.process()\n",
    "intermediate = np.empty(hidden.n_neurons)\n",
    "for i in range(hidden.n_neurons):\n",
    "    intermediate[i] = hidden.neurons[i].out\n",
    "\n",
    "last.setInput(intermediate)\n",
    "last.process()\n",
    "print(last.neurons[0].out)\n",
    "\n",
    "instance = np.array([0.8, 0.15, 0.9, 0.19, 0.7, 0.95])\n",
    "hidden.setInput(instance)\n",
    "hidden.process()\n",
    "intermediate = np.empty(hidden.n_neurons)\n",
    "for i in range(hidden.n_neurons):\n",
    "    intermediate[i] = hidden.neurons[i].out\n",
    "\n",
    "last.setInput(intermediate)\n",
    "last.process()\n",
    "print(last.neurons[0].out)"
   ]
  },
  {
   "cell_type": "code",
   "execution_count": 314,
   "metadata": {
    "collapsed": false
   },
   "outputs": [
    {
     "name": "stdout",
     "output_type": "stream",
     "text": [
      "[1 2 3 1]\n"
     ]
    }
   ],
   "source": [
    "x = np.array([1, 2, 3])\n",
    "x = np.append(x, 1)\n",
    "print(x)"
   ]
  },
  {
   "cell_type": "code",
   "execution_count": null,
   "metadata": {
    "collapsed": true
   },
   "outputs": [],
   "source": []
  }
 ],
 "metadata": {
  "kernelspec": {
   "display_name": "Python 3",
   "language": "python",
   "name": "python3"
  },
  "language_info": {
   "codemirror_mode": {
    "name": "ipython",
    "version": 3
   },
   "file_extension": ".py",
   "mimetype": "text/x-python",
   "name": "python",
   "nbconvert_exporter": "python",
   "pygments_lexer": "ipython3",
   "version": "3.4.3"
  }
 },
 "nbformat": 4,
 "nbformat_minor": 0
}
