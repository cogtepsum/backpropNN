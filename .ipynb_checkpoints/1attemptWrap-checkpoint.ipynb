{
 "cells": [
  {
   "cell_type": "code",
   "execution_count": 62,
   "metadata": {
    "collapsed": true
   },
   "outputs": [],
   "source": [
    "import numpy as np\n",
    "from scipy.misc import derivative\n",
    "\n",
    "class Neuron:\n",
    "    def __init__(self, in_size, alpha):\n",
    "        self.weights = np.random.uniform(low = -0.1, high = 0.1, size = in_size + 1)\n",
    "        self.alpha = alpha\n",
    "        self.out = 0\n",
    "        \n",
    "    def actvF(self, s):\n",
    "        return 1/(1 + np.exp(-s))\n",
    "        \n",
    "    def spike(self, sample):\n",
    "        s = sum(self.weights * np.append(sample, 1))\n",
    "        self.out = self.actvF(s)\n",
    "        return self.out\n",
    "        \n",
    "    def learn(self, sample, sigma, nxt_wt = None):\n",
    "        sample = np.append(sample, 1)\n",
    "        if nxt_wt is None:\n",
    "            # this is a neuron of the last layer\n",
    "            for i, e in enumerate(self.weights):\n",
    "                self.weights[i] -= self.alpha * sigma * sample[i]\n",
    "        else:\n",
    "            for i, e in enumerate(self.weights):\n",
    "                self.weights[i] -= self.alpha * sum(sigma * nxt_wt) * self.out * (1 - self.out) * sample[i]\n",
    "            sigma = sum(sigma * nxt_wt) * derivative(self.actvF, sum(self.weights * sample))\n",
    "        return sigma\n",
    "            "
   ]
  },
  {
   "cell_type": "code",
   "execution_count": 63,
   "metadata": {
    "collapsed": true
   },
   "outputs": [],
   "source": [
    "class NLayer:\n",
    "    def __init__(self, in_size, n_neurons, alpha, nxt = None):\n",
    "        self.in_size = in_size\n",
    "        self.n_neurons = n_neurons\n",
    "        self.neurons = np.empty(n_neurons, dtype = object)\n",
    "        for i in range(self.n_neurons):\n",
    "            self.neurons[i] = Neuron(in_size, alpha)\n",
    "        self.nxt = nxt\n",
    "            \n",
    "    def setInput(self, sample):\n",
    "        self.in_signal = sample\n",
    "        \n",
    "    def process(self):\n",
    "        self.output = np.empty(self.n_neurons)\n",
    "        for i in range(self.n_neurons):\n",
    "            self.output[i] = self.neurons[i].spike(self.in_signal)\n",
    "            \n",
    "    def learn(self, sigmas):\n",
    "        if not self.nxt:\n",
    "            # this is the last layer\n",
    "            for k in range(self.n_neurons):\n",
    "                self.neurons[k].learn(self.in_signal, sigmas[k])\n",
    "            return sigmas\n",
    "        else:\n",
    "            self.sigmas = np.zeros(self.n_neurons)\n",
    "            for k in range(self.n_neurons):\n",
    "                nxt_wt = np.zeros(self.nxt.n_neurons)\n",
    "                for i in range(self.nxt.n_neurons):\n",
    "                    nxt_wt[i] = self.nxt.neurons[i].weights[k]\n",
    "                self.sigmas[k] = self.neurons[k].learn(self.in_signal, sigmas, nxt_wt)\n",
    "            return self.sigmas\n",
    "                "
   ]
  },
  {
   "cell_type": "code",
   "execution_count": 64,
   "metadata": {
    "collapsed": false
   },
   "outputs": [],
   "source": [
    "class NNetwork:\n",
    "    layers = None\n",
    "    answer = None\n",
    "    \n",
    "    def __init__(self, in_size, out_size, hiddlist, alpha):\n",
    "        self.layers = np.empty(len(hiddlist) + 1, dtype = object)\n",
    "        self.layers[-1] = NLayer(hiddlist[-1], out_size, alpha)\n",
    "        for i in range(1, len(hiddlist))[::-1]:\n",
    "            self.layers[i] = NLayer(hiddlist[i-1], hiddlist[i], alpha, nxt = self.layers[i+1])\n",
    "        self.layers[0] = NLayer(in_size, hiddlist[0], alpha, nxt = self.layers[1])\n",
    "        \n",
    "    def printLayers(self):\n",
    "        for i, l in enumerate(self.layers):\n",
    "            print(l.in_size, l.n_neurons, l.nxt)\n",
    "            \n",
    "    def process(self, sample):\n",
    "        for i in range(len(self.layers)):\n",
    "            if i == 0:\n",
    "                self.layers[i].setInput(sample)\n",
    "            else:\n",
    "                self.layers[i].setInput(self.layers[i-1].output)\n",
    "            self.layers[i].process()\n",
    "            \n",
    "        self.answer = self.layers[-1].output\n",
    "        return self.answer\n",
    "        \n",
    "    def learn(self, d):\n",
    "        sigmas = np.empty(len(d))\n",
    "        for i in range(len(d)):\n",
    "            sigmas[i] = (self.layers[-1].neurons[i].out - d[i]) * self.layers[-1].neurons[i].out * (1 - self.layers[-1].neurons[i].out)\n",
    "            \n",
    "        for i in range(len(self.layers))[::-1]:\n",
    "            sigmas = self.layers[i].learn(sigmas)"
   ]
  },
  {
   "cell_type": "code",
   "execution_count": 65,
   "metadata": {
    "collapsed": false
   },
   "outputs": [
    {
     "name": "stdout",
     "output_type": "stream",
     "text": [
      "6 12 <__main__.NLayer object at 0x7f614dff0400>\n",
      "12 2 None\n"
     ]
    }
   ],
   "source": [
    "np.random.seed(83838)\n",
    "nnet = NNetwork(6, 2, [12], 0.1)\n",
    "nnet.printLayers()"
   ]
  },
  {
   "cell_type": "code",
   "execution_count": 66,
   "metadata": {
    "collapsed": false
   },
   "outputs": [
    {
     "name": "stdout",
     "output_type": "stream",
     "text": [
      "[ 0.7341879   0.26270394]\n",
      "[ 0.28565547  0.71785276]\n",
      "[ 0.61280433  0.3861741 ]\n"
     ]
    }
   ],
   "source": [
    "#np.random.seed(83838)\n",
    "\n",
    "for j in range(1000):\n",
    "    x = np.random.uniform(low = -1, high = 1)\n",
    "    if x >= 0:\n",
    "        instance = np.array([0.9, 0.1, 0.1, 0.1, 0.1, 0.9])\n",
    "        d = np.array([1., 0.])\n",
    "    else:\n",
    "        instance = np.array([0.1, 0.1, 0.9, 0.9, 0.1, 0.1])\n",
    "        d = np.array([0., 1.])\n",
    "    \n",
    "    nnet.process(instance)\n",
    "    nnet.learn(d)\n",
    "    \n",
    "instance = np.array([0.9, 0.1, 0.1, 0.1, 0.1, 0.9])\n",
    "print(nnet.process(instance))\n",
    "\n",
    "instance = np.array([0.1, 0.1, 0.9, 0.9, 0.1, 0.1])\n",
    "print(nnet.process(instance))\n",
    "\n",
    "instance = np.array([0.8, 0.15, 0.9, 0.19, 0.7, 0.95])\n",
    "print(nnet.process(instance))"
   ]
  },
  {
   "cell_type": "code",
   "execution_count": null,
   "metadata": {
    "collapsed": true
   },
   "outputs": [],
   "source": []
  }
 ],
 "metadata": {
  "kernelspec": {
   "display_name": "Python 3",
   "language": "python",
   "name": "python3"
  },
  "language_info": {
   "codemirror_mode": {
    "name": "ipython",
    "version": 3
   },
   "file_extension": ".py",
   "mimetype": "text/x-python",
   "name": "python",
   "nbconvert_exporter": "python",
   "pygments_lexer": "ipython3",
   "version": "3.4.3"
  }
 },
 "nbformat": 4,
 "nbformat_minor": 0
}
