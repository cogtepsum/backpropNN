{
 "cells": [
  {
   "cell_type": "code",
   "execution_count": 1,
   "metadata": {
    "collapsed": true
   },
   "outputs": [],
   "source": [
    "import numpy as np\n",
    "from scipy.misc import derivative\n",
    "\n",
    "class Neuron:\n",
    "    def __init__(self, in_size, alpha):\n",
    "        self.weights = np.random.uniform(low = -0.1, high = 0.1, size = in_size + 1)\n",
    "        self.alpha = alpha\n",
    "        self.out = 0\n",
    "        \n",
    "    def setLearnRate(self, newalpha):\n",
    "        self.alpha = newalpha\n",
    "        \n",
    "    def actvF(self, s):\n",
    "        return 1/(1 + np.exp(-s))\n",
    "        \n",
    "    def spike(self, sample):\n",
    "        s = sum(self.weights * np.append(sample, 1))\n",
    "        self.out = self.actvF(s)\n",
    "        return self.out\n",
    "        \n",
    "    def learn(self, sample, sigma, nxt_wt = None):\n",
    "        sample = np.append(sample, 1)\n",
    "        if nxt_wt is None:\n",
    "            # this is a neuron of the last layer\n",
    "            for i, e in enumerate(self.weights):\n",
    "                self.weights[i] -= self.alpha * sigma * sample[i]\n",
    "        else:\n",
    "            for i, e in enumerate(self.weights):\n",
    "                self.weights[i] -= self.alpha * sum(sigma * nxt_wt) * self.out * (1 - self.out) * sample[i]\n",
    "            sigma = sum(sigma * nxt_wt) * derivative(self.actvF, sum(self.weights * sample))\n",
    "        return sigma\n",
    "            "
   ]
  },
  {
   "cell_type": "code",
   "execution_count": 2,
   "metadata": {
    "collapsed": true
   },
   "outputs": [],
   "source": [
    "class NLayer:\n",
    "    def __init__(self, in_size, n_neurons, alpha, nxt = None):\n",
    "        self.in_size = in_size\n",
    "        self.n_neurons = n_neurons\n",
    "        self.neurons = np.empty(n_neurons, dtype = object)\n",
    "        for i in range(self.n_neurons):\n",
    "            self.neurons[i] = Neuron(in_size, alpha)\n",
    "        self.nxt = nxt\n",
    "        \n",
    "    def setLearnRate(self, newalpha):\n",
    "        for neuron in self.neurons:\n",
    "            neuron.setLearnRate(newalpha)\n",
    "            \n",
    "    def setInput(self, sample):\n",
    "        self.in_signal = sample\n",
    "        \n",
    "    def process(self):\n",
    "        self.output = np.empty(self.n_neurons)\n",
    "        for i in range(self.n_neurons):\n",
    "            self.output[i] = self.neurons[i].spike(self.in_signal)\n",
    "            \n",
    "    def learn(self, sigmas):\n",
    "        if not self.nxt:\n",
    "            # this is the last layer\n",
    "            for k in range(self.n_neurons):\n",
    "                self.neurons[k].learn(self.in_signal, sigmas[k])\n",
    "            return sigmas\n",
    "        else:\n",
    "            self.sigmas = np.zeros(self.n_neurons)\n",
    "            for k in range(self.n_neurons):\n",
    "                nxt_wt = np.zeros(self.nxt.n_neurons)\n",
    "                for i in range(self.nxt.n_neurons):\n",
    "                    nxt_wt[i] = self.nxt.neurons[i].weights[k]\n",
    "                self.sigmas[k] = self.neurons[k].learn(self.in_signal, sigmas, nxt_wt)\n",
    "            return self.sigmas\n",
    "                "
   ]
  },
  {
   "cell_type": "code",
   "execution_count": 3,
   "metadata": {
    "collapsed": false
   },
   "outputs": [],
   "source": [
    "class NNetwork:    \n",
    "    def __init__(self, in_size, out_size, hiddlist, alpha = 0.01):\n",
    "        self.layers = np.empty(len(hiddlist) + 1, dtype = object)\n",
    "        self.layers[-1] = NLayer(hiddlist[-1], out_size, alpha)\n",
    "        for i in range(1, len(hiddlist))[::-1]:\n",
    "            self.layers[i] = NLayer(hiddlist[i-1], hiddlist[i], alpha, nxt = self.layers[i+1])\n",
    "        self.layers[0] = NLayer(in_size, hiddlist[0], alpha, nxt = self.layers[1])\n",
    "        \n",
    "    def setLearnRate(self, newalpha):\n",
    "        for layer in self.layers:\n",
    "            layer.setLearnRate(newalpha)\n",
    "        \n",
    "    def printLayers(self):\n",
    "        for i, l in enumerate(self.layers):\n",
    "            print(l.in_size, l.n_neurons, l.nxt)\n",
    "            \n",
    "    def process(self, sample):\n",
    "        for i in range(len(self.layers)):\n",
    "            if i == 0:\n",
    "                self.layers[i].setInput(sample)\n",
    "            else:\n",
    "                self.layers[i].setInput(self.layers[i-1].output)\n",
    "            self.layers[i].process()\n",
    "            \n",
    "        self.answer = self.layers[-1].output\n",
    "        return self.answer\n",
    "        \n",
    "    def learn(self, d):\n",
    "        sigmas = np.empty(len(d))\n",
    "        for i in range(len(d)):\n",
    "            sigmas[i] = (self.layers[-1].neurons[i].out - d[i]) * self.layers[-1].neurons[i].out * (1 - self.layers[-1].neurons[i].out)\n",
    "            \n",
    "        for i in range(len(self.layers))[::-1]:\n",
    "            sigmas = self.layers[i].learn(sigmas)"
   ]
  },
  {
   "cell_type": "code",
   "execution_count": 4,
   "metadata": {
    "collapsed": false
   },
   "outputs": [],
   "source": [
    "def labelToArray(data):\n",
    "    binstring = \"{0:b}\".format(data)\n",
    "    missing = (4 - len(binstring)) * '0'\n",
    "    return [int(s) for s in missing + binstring]\n",
    "\n",
    "def arrayToLabel(arr):\n",
    "    arr = [int(round(x)) for x in arr]\n",
    "    s = ''.join(map(str, arr))\n",
    "    return int(s, 2)"
   ]
  },
  {
   "cell_type": "code",
   "execution_count": 5,
   "metadata": {
    "collapsed": false
   },
   "outputs": [],
   "source": [
    "from pandas import read_csv\n",
    "from sklearn.cross_validation import train_test_split\n",
    "\n",
    "rawtrain = read_csv('train.csv', nrows=10000).values\n",
    "\n",
    "X_train, X_test, y_train, y_test = train_test_split(rawtrain[:, 1:], rawtrain[:, 0], test_size = 0.33, random_state = 42)"
   ]
  },
  {
   "cell_type": "code",
   "execution_count": 6,
   "metadata": {
    "collapsed": true
   },
   "outputs": [],
   "source": [
    "from sklearn.decomposition import PCA\n",
    "\n",
    "pca = PCA(n_components=300)\n",
    "pca.fit(X_train)\n",
    "X_train_pca = pca.transform(X_train)"
   ]
  },
  {
   "cell_type": "code",
   "execution_count": 8,
   "metadata": {
    "collapsed": false
   },
   "outputs": [],
   "source": [
    "np.random.seed(42)\n",
    "net = NNetwork(X_train_pca.shape[1], 4, [100])"
   ]
  },
  {
   "cell_type": "code",
   "execution_count": 9,
   "metadata": {
    "collapsed": false
   },
   "outputs": [
    {
     "name": "stdout",
     "output_type": "stream",
     "text": [
      "Epoch 1\n",
      "0%                                                                  100%\n",
      "[######################################################################] | ETA[sec]: 0.000 \n",
      "Total time elapsed: 772.645 sec\n",
      "Epoch 2\n",
      "0%                                                                  100%\n",
      "[######################################################################] | ETA[sec]: 0.000 \n",
      "Total time elapsed: 789.274 sec\n",
      "Epoch 3\n",
      "0%                                                                  100%\n",
      "[######################################################################] | ETA[sec]: 0.000 \n",
      "Total time elapsed: 792.331 sec\n",
      "Epoch 4\n",
      "0%                                                                  100%\n",
      "[######################################################################] | ETA[sec]: 0.000 \n",
      "Total time elapsed: 787.607 sec\n",
      "Epoch 5\n",
      "0%                                                                  100%\n",
      "[######################################################################] | ETA[sec]: 0.000 \n",
      "Total time elapsed: 802.744 sec\n",
      "Overall time: 1:05:44.606880\n"
     ]
    }
   ],
   "source": [
    "import pyprind\n",
    "from datetime import datetime\n",
    "\n",
    "learnrate = 0.02\n",
    "net.setLearnRate(learnrate)\n",
    "\n",
    "nEpochs = 5\n",
    "start = datetime.now()\n",
    "\n",
    "for epoch in range(nEpochs):\n",
    "    print('Epoch ' + str(epoch + 1))\n",
    "    for i in pyprind.prog_bar(range(len(y_train)), stream = 1, width = 70):\n",
    "        answer = labelToArray(y_train[i])\n",
    "        net.process(X_train_pca[i])\n",
    "        net.learn(answer)\n",
    "    learnrate /= 2\n",
    "    net.setLearnRate(learnrate)\n",
    "        \n",
    "overalltime = datetime.now() - start\n",
    "print('Overall time:', overalltime)"
   ]
  },
  {
   "cell_type": "code",
   "execution_count": 10,
   "metadata": {
    "collapsed": false
   },
   "outputs": [
    {
     "name": "stdout",
     "output_type": "stream",
     "text": [
      "68.97 %\n"
     ]
    }
   ],
   "source": [
    "answers = np.empty(len(y_test))\n",
    "X_test_pca = pca.transform(X_test)\n",
    "for i in range(len(y_test)):\n",
    "    ans = net.process(X_test_pca[i])\n",
    "    if y_test[i] == arrayToLabel(ans):\n",
    "        answers[i] = True\n",
    "    else:\n",
    "        answers[i] = False\n",
    "        \n",
    "print(round(sum(answers) / len(y_test) * 100, 3), '%')"
   ]
  },
  {
   "cell_type": "code",
   "execution_count": 12,
   "metadata": {
    "collapsed": false
   },
   "outputs": [
    {
     "data": {
      "image/png": "[encoded data removed]",
      "text/plain": [
       "<matplotlib.figure.Figure at 0x79417f0>"
      ]
     },
     "metadata": {},
     "output_type": "display_data"
    },
    {
     "name": "stdout",
     "output_type": "stream",
     "text": [
      "Actual label: 8\n",
      "NN raw output: [ 0.78073153  0.03071319  0.00550272  0.12593992]\n",
      "NN labeled output: 8\n"
     ]
    }
   ],
   "source": [
    "import matplotlib.pyplot as plt\n",
    "n = np.random.randint(0, len(y_test))\n",
    "\n",
    "sample = X_test[n]\n",
    "sample = np.reshape(sample, (28, 28))\n",
    "\n",
    "%matplotlib inline\n",
    "plot = plt.imshow(sample)\n",
    "plot.set_cmap('gray_r')\n",
    "plt.show()\n",
    "\n",
    "print('Actual label:', y_test[n])\n",
    "a = net.process(X_test_pca[n])\n",
    "print('NN raw output:', a)\n",
    "print('NN labeled output:', arrayToLabel(a))"
   ]
  },
  {
   "cell_type": "code",
   "execution_count": null,
   "metadata": {
    "collapsed": true
   },
   "outputs": [],
   "source": []
  }
 ],
 "metadata": {
  "kernelspec": {
   "display_name": "Python 3",
   "language": "python",
   "name": "python3"
  },
  "language_info": {
   "codemirror_mode": {
    "name": "ipython",
    "version": 3
   },
   "file_extension": ".py",
   "mimetype": "text/x-python",
   "name": "python",
   "nbconvert_exporter": "python",
   "pygments_lexer": "ipython3",
   "version": "3.4.3"
  }
 },
 "nbformat": 4,
 "nbformat_minor": 0
}
