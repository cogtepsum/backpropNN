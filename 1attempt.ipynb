{
 "cells": [
  {
   "cell_type": "code",
   "execution_count": 24,
   "metadata": {
    "collapsed": false
   },
   "outputs": [],
   "source": [
    "import numpy as np\n",
    "\n",
    "class Neuron:\n",
    "    def __init__(self, in_size, alpha):\n",
    "        self.weights = np.random.uniform(low = -0.1, high = 0.1, size = in_size + 1)\n",
    "        self.alpha = alpha\n",
    "        self.out = 0\n",
    "        \n",
    "    def actvF(self, s):\n",
    "        return 1/(1 + np.exp(-s))\n",
    "        \n",
    "    def spike(self, sample):\n",
    "        s = sum(self.weights * np.append(sample, 1))\n",
    "        self.out = self.actvF(s)\n",
    "        return self.out\n",
    "        \n",
    "    def learn(self, sample, sigma, nxt_wt = None):\n",
    "        sample = np.append(sample, 1)\n",
    "        if not nxt_wt:\n",
    "            # this is a neuron of the last layer\n",
    "            for i, e in enumerate(self.weights):\n",
    "                self.weights[i] -= self.alpha * sigma * sample[i]\n",
    "        else:\n",
    "            for i, e in enumerate(self.weights):\n",
    "                self.weights[i] -= self.alpha * sum(sigma * nxt_wt) * self.out * (1 - self.out) * sample[i]\n",
    "                "
   ]
  },
  {
   "cell_type": "code",
   "execution_count": 25,
   "metadata": {
    "collapsed": false
   },
   "outputs": [],
   "source": [
    "class NLayer:\n",
    "    def __init__(self, in_size, n_neurons, alpha, nxt = None):\n",
    "        self.in_size = in_size\n",
    "        self.n_neurons = n_neurons\n",
    "        self.neurons = np.empty(n_neurons, dtype = object)\n",
    "        for i in range(self.n_neurons):\n",
    "            self.neurons[i] = Neuron(in_size, alpha)\n",
    "        self.nxt = nxt\n",
    "            \n",
    "    def setInput(self, sample):\n",
    "        self.in_signal = sample\n",
    "        \n",
    "    def process(self):\n",
    "        for i in range(self.n_neurons):\n",
    "            self.neurons[i].spike(self.in_signal)\n",
    "            \n",
    "    def learn(self, sigmas):\n",
    "        if not self.nxt:\n",
    "            # this is the last layer\n",
    "            for k in range(self.n_neurons):\n",
    "                self.neurons[k].learn(self.in_signal, sigmas[k])\n",
    "        else:\n",
    "            for k in range(self.n_neurons):\n",
    "                nxt_wt = np.zeros(self.nxt.n_neurons)\n",
    "                for i in range(self.nxt.n_neurons):\n",
    "                    nxt_wt[i] = self.nxt.neurons[i].weights[k]\n",
    "                self.neurons[k].learn(self.in_signal, sigmas, nxt_wt)"
   ]
  },
  {
   "cell_type": "code",
   "execution_count": 26,
   "metadata": {
    "collapsed": false
   },
   "outputs": [],
   "source": [
    "last = NLayer(10, 1, 0.1)\n",
    "hidden = NLayer(6, 10, 0.1, nxt = last)"
   ]
  },
  {
   "cell_type": "code",
   "execution_count": 27,
   "metadata": {
    "collapsed": false
   },
   "outputs": [
    {
     "name": "stdout",
     "output_type": "stream",
     "text": [
      "0.585019481282\n",
      "0.390936996975\n",
      "0.533680313537\n"
     ]
    }
   ],
   "source": [
    "np.random.seed(83838)\n",
    "for j in range(1000):\n",
    "    x = np.random.uniform(low = -1, high = 1)\n",
    "    if x >= 0:\n",
    "        instance = np.array([0.9, 0.1, 0.1, 0.1, 0.1, 0.9])\n",
    "        d = np.array([1.])\n",
    "    else:\n",
    "        instance = np.array([0.1, 0.1, 0.9, 0.9, 0.1, 0.1])\n",
    "        d = np.array([0.])\n",
    "    # forwardprop\n",
    "    hidden.setInput(instance)\n",
    "    hidden.process()\n",
    "    intermediate = np.empty(hidden.n_neurons)\n",
    "    for i in range(hidden.n_neurons):\n",
    "        intermediate[i] = hidden.neurons[i].out\n",
    "\n",
    "    last.setInput(intermediate)\n",
    "    last.process()\n",
    "\n",
    "    sigmas = np.empty(1)\n",
    "    for i in range(len(sigmas)):\n",
    "        sigmas[i] = (last.neurons[i].out - d[i]) * last.neurons[i].out * (1 - last.neurons[i].out)\n",
    "\n",
    "    # backprop\n",
    "    last.learn(sigmas)\n",
    "    hidden.learn(sigmas)\n",
    "    \n",
    "instance = np.array([0.9, 0.1, 0.1, 0.1, 0.1, 0.9])\n",
    "hidden.setInput(instance)\n",
    "hidden.process()\n",
    "intermediate = np.empty(hidden.n_neurons)\n",
    "for i in range(hidden.n_neurons):\n",
    "    intermediate[i] = hidden.neurons[i].out\n",
    "\n",
    "last.setInput(intermediate)\n",
    "last.process()\n",
    "print(last.neurons[0].out)\n",
    "\n",
    "instance = np.array([0.1, 0.1, 0.9, 0.9, 0.1, 0.1])\n",
    "hidden.setInput(instance)\n",
    "hidden.process()\n",
    "intermediate = np.empty(hidden.n_neurons)\n",
    "for i in range(hidden.n_neurons):\n",
    "    intermediate[i] = hidden.neurons[i].out\n",
    "\n",
    "last.setInput(intermediate)\n",
    "last.process()\n",
    "print(last.neurons[0].out)\n",
    "\n",
    "instance = np.array([0.8, 0.15, 0.9, 0.19, 0.7, 0.95])\n",
    "hidden.setInput(instance)\n",
    "hidden.process()\n",
    "intermediate = np.empty(hidden.n_neurons)\n",
    "for i in range(hidden.n_neurons):\n",
    "    intermediate[i] = hidden.neurons[i].out\n",
    "\n",
    "last.setInput(intermediate)\n",
    "last.process()\n",
    "print(last.neurons[0].out)"
   ]
  },
  {
   "cell_type": "code",
   "execution_count": 11,
   "metadata": {
    "collapsed": false
   },
   "outputs": [
    {
     "name": "stdout",
     "output_type": "stream",
     "text": [
      "0001\n",
      "1\n"
     ]
    }
   ],
   "source": [
    "import numpy as np\n",
    "x = np.array([0, 0, 0, 1])\n",
    "s = ''.join(map(str, x))\n",
    "print(s)\n",
    "print(int(s, 2))"
   ]
  },
  {
   "cell_type": "code",
   "execution_count": 27,
   "metadata": {
    "collapsed": false
   },
   "outputs": [
    {
     "data": {
      "text/plain": [
       "1"
      ]
     },
     "execution_count": 27,
     "metadata": {},
     "output_type": "execute_result"
    }
   ],
   "source": [
    "import math\n",
    "round(0.501)"
   ]
  },
  {
   "cell_type": "code",
   "execution_count": null,
   "metadata": {
    "collapsed": true
   },
   "outputs": [],
   "source": []
  }
 ],
 "metadata": {
  "kernelspec": {
   "display_name": "Python 3",
   "language": "python",
   "name": "python3"
  },
  "language_info": {
   "codemirror_mode": {
    "name": "ipython",
    "version": 3
   },
   "file_extension": ".py",
   "mimetype": "text/x-python",
   "name": "python",
   "nbconvert_exporter": "python",
   "pygments_lexer": "ipython3",
   "version": "3.4.3"
  }
 },
 "nbformat": 4,
 "nbformat_minor": 0
}
