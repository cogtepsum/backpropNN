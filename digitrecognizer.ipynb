{
 "cells": [
  {
   "cell_type": "code",
   "execution_count": 1,
   "metadata": {
    "collapsed": true
   },
   "outputs": [],
   "source": [
    "import numpy as np\n",
    "from scipy.misc import derivative\n",
    "\n",
    "class Neuron:\n",
    "    def __init__(self, in_size, alpha):\n",
    "        self.weights = np.random.uniform(low = -0.1, high = 0.1, size = in_size + 1)\n",
    "        self.alpha = alpha\n",
    "        self.out = 0\n",
    "        \n",
    "    def actvF(self, s):\n",
    "        return 1/(1 + np.exp(-s))\n",
    "        \n",
    "    def spike(self, sample):\n",
    "        s = sum(self.weights * np.append(sample, 1))\n",
    "        self.out = self.actvF(s)\n",
    "        return self.out\n",
    "        \n",
    "    def learn(self, sample, sigma, nxt_wt = None):\n",
    "        sample = np.append(sample, 1)\n",
    "        if nxt_wt is None:\n",
    "            # this is a neuron of the last layer\n",
    "            for i, e in enumerate(self.weights):\n",
    "                self.weights[i] -= self.alpha * sigma * sample[i]\n",
    "        else:\n",
    "            for i, e in enumerate(self.weights):\n",
    "                self.weights[i] -= self.alpha * sum(sigma * nxt_wt) * self.out * (1 - self.out) * sample[i]\n",
    "            sigma = sum(sigma * nxt_wt) * derivative(self.actvF, sum(self.weights * sample))\n",
    "        return sigma\n",
    "            "
   ]
  },
  {
   "cell_type": "code",
   "execution_count": 2,
   "metadata": {
    "collapsed": true
   },
   "outputs": [],
   "source": [
    "class NLayer:\n",
    "    def __init__(self, in_size, n_neurons, alpha, nxt = None):\n",
    "        self.in_size = in_size\n",
    "        self.n_neurons = n_neurons\n",
    "        self.neurons = np.empty(n_neurons, dtype = object)\n",
    "        for i in range(self.n_neurons):\n",
    "            self.neurons[i] = Neuron(in_size, alpha)\n",
    "        self.nxt = nxt\n",
    "            \n",
    "    def setInput(self, sample):\n",
    "        self.in_signal = sample\n",
    "        \n",
    "    def process(self):\n",
    "        self.output = np.empty(self.n_neurons)\n",
    "        for i in range(self.n_neurons):\n",
    "            self.output[i] = self.neurons[i].spike(self.in_signal)\n",
    "            \n",
    "    def learn(self, sigmas):\n",
    "        if not self.nxt:\n",
    "            # this is the last layer\n",
    "            for k in range(self.n_neurons):\n",
    "                self.neurons[k].learn(self.in_signal, sigmas[k])\n",
    "            return sigmas\n",
    "        else:\n",
    "            self.sigmas = np.zeros(self.n_neurons)\n",
    "            for k in range(self.n_neurons):\n",
    "                nxt_wt = np.zeros(self.nxt.n_neurons)\n",
    "                for i in range(self.nxt.n_neurons):\n",
    "                    nxt_wt[i] = self.nxt.neurons[i].weights[k]\n",
    "                self.sigmas[k] = self.neurons[k].learn(self.in_signal, sigmas, nxt_wt)\n",
    "            return self.sigmas\n",
    "                "
   ]
  },
  {
   "cell_type": "code",
   "execution_count": 3,
   "metadata": {
    "collapsed": false
   },
   "outputs": [],
   "source": [
    "class NNetwork:\n",
    "    layers = None\n",
    "    answer = None\n",
    "    \n",
    "    def __init__(self, in_size, out_size, hiddlist, alpha):\n",
    "        self.layers = np.empty(len(hiddlist) + 1, dtype = object)\n",
    "        self.layers[-1] = NLayer(hiddlist[-1], out_size, alpha)\n",
    "        for i in range(1, len(hiddlist))[::-1]:\n",
    "            self.layers[i] = NLayer(hiddlist[i-1], hiddlist[i], alpha, nxt = self.layers[i+1])\n",
    "        self.layers[0] = NLayer(in_size, hiddlist[0], alpha, nxt = self.layers[1])\n",
    "        \n",
    "    def printLayers(self):\n",
    "        for i, l in enumerate(self.layers):\n",
    "            print(l.in_size, l.n_neurons, l.nxt)\n",
    "            \n",
    "    def process(self, sample):\n",
    "        for i in range(len(self.layers)):\n",
    "            if i == 0:\n",
    "                self.layers[i].setInput(sample)\n",
    "            else:\n",
    "                self.layers[i].setInput(self.layers[i-1].output)\n",
    "            self.layers[i].process()\n",
    "            \n",
    "        self.answer = self.layers[-1].output\n",
    "        return self.answer\n",
    "        \n",
    "    def learn(self, d):\n",
    "        sigmas = np.empty(len(d))\n",
    "        for i in range(len(d)):\n",
    "            sigmas[i] = (self.layers[-1].neurons[i].out - d[i]) * self.layers[-1].neurons[i].out * (1 - self.layers[-1].neurons[i].out)\n",
    "            \n",
    "        for i in range(len(self.layers))[::-1]:\n",
    "            sigmas = self.layers[i].learn(sigmas)"
   ]
  },
  {
   "cell_type": "code",
   "execution_count": 9,
   "metadata": {
    "collapsed": false
   },
   "outputs": [],
   "source": [
    "def labelToArray(data):\n",
    "    binstring = \"{0:b}\".format(data)\n",
    "    missing = (4 - len(binstring)) * '0'\n",
    "    return [int(s) for s in missing + binstring]\n",
    "\n",
    "def arrayToLabel(arr):\n",
    "    arr = [int(round(x)) for x in arr]\n",
    "    s = ''.join(map(str, arr))\n",
    "    return int(s, 2)"
   ]
  },
  {
   "cell_type": "code",
   "execution_count": 23,
   "metadata": {
    "collapsed": false
   },
   "outputs": [],
   "source": [
    "from pandas import read_csv\n",
    "from sklearn.cross_validation import train_test_split\n",
    "\n",
    "rawtrain = read_csv('train.csv', nrows = 5000).values\n",
    "\n",
    "X_train, X_test, y_train, y_test = train_test_split(rawtrain[:, 1:], rawtrain[:, 0], test_size = 0.33, random_state = 42)"
   ]
  },
  {
   "cell_type": "code",
   "execution_count": 24,
   "metadata": {
    "collapsed": false
   },
   "outputs": [],
   "source": [
    "np.random.seed(42)\n",
    "net = NNetwork(X_train.shape[1], 4, [28], 0.01)"
   ]
  },
  {
   "cell_type": "code",
   "execution_count": 25,
   "metadata": {
    "collapsed": false
   },
   "outputs": [
    {
     "name": "stdout",
     "output_type": "stream",
     "text": [
      "Epoch 0\n",
      "0.0 %\n",
      "2.9850746268656714 %\n",
      "5.970149253731343 %\n",
      "8.955223880597014 %\n",
      "11.940298507462686 %\n",
      "14.925373134328357 %\n",
      "17.91044776119403 %\n",
      "20.8955223880597 %\n",
      "23.88059701492537 %\n",
      "26.865671641791046 %\n",
      "29.850746268656714 %\n",
      "32.83582089552239 %\n",
      "35.82089552238806 %\n",
      "38.80597014925373 %\n"
     ]
    },
    {
     "ename": "KeyboardInterrupt",
     "evalue": "",
     "output_type": "error",
     "traceback": [
      "\u001b[1;31m---------------------------------------------------------------------------\u001b[0m",
      "\u001b[1;31mKeyboardInterrupt\u001b[0m                         Traceback (most recent call last)",
      "\u001b[1;32m<ipython-input-25-55ad8212846b>\u001b[0m in \u001b[0;36m<module>\u001b[1;34m()\u001b[0m\n\u001b[0;32m      6\u001b[0m         \u001b[0manswer\u001b[0m \u001b[1;33m=\u001b[0m \u001b[0mlabelToArray\u001b[0m\u001b[1;33m(\u001b[0m\u001b[0my_train\u001b[0m\u001b[1;33m[\u001b[0m\u001b[0mi\u001b[0m\u001b[1;33m]\u001b[0m\u001b[1;33m)\u001b[0m\u001b[1;33m\u001b[0m\u001b[0m\n\u001b[0;32m      7\u001b[0m         \u001b[0mnet\u001b[0m\u001b[1;33m.\u001b[0m\u001b[0mprocess\u001b[0m\u001b[1;33m(\u001b[0m\u001b[0mX_train\u001b[0m\u001b[1;33m[\u001b[0m\u001b[0mi\u001b[0m\u001b[1;33m]\u001b[0m\u001b[1;33m)\u001b[0m\u001b[1;33m\u001b[0m\u001b[0m\n\u001b[1;32m----> 8\u001b[1;33m         \u001b[0mnet\u001b[0m\u001b[1;33m.\u001b[0m\u001b[0mlearn\u001b[0m\u001b[1;33m(\u001b[0m\u001b[0manswer\u001b[0m\u001b[1;33m)\u001b[0m\u001b[1;33m\u001b[0m\u001b[0m\n\u001b[0m",
      "\u001b[1;32m<ipython-input-3-ef8da9fa54aa>\u001b[0m in \u001b[0;36mlearn\u001b[1;34m(self, d)\u001b[0m\n\u001b[0;32m     31\u001b[0m \u001b[1;33m\u001b[0m\u001b[0m\n\u001b[0;32m     32\u001b[0m         \u001b[1;32mfor\u001b[0m \u001b[0mi\u001b[0m \u001b[1;32min\u001b[0m \u001b[0mrange\u001b[0m\u001b[1;33m(\u001b[0m\u001b[0mlen\u001b[0m\u001b[1;33m(\u001b[0m\u001b[0mself\u001b[0m\u001b[1;33m.\u001b[0m\u001b[0mlayers\u001b[0m\u001b[1;33m)\u001b[0m\u001b[1;33m)\u001b[0m\u001b[1;33m[\u001b[0m\u001b[1;33m:\u001b[0m\u001b[1;33m:\u001b[0m\u001b[1;33m-\u001b[0m\u001b[1;36m1\u001b[0m\u001b[1;33m]\u001b[0m\u001b[1;33m:\u001b[0m\u001b[1;33m\u001b[0m\u001b[0m\n\u001b[1;32m---> 33\u001b[1;33m             \u001b[0msigmas\u001b[0m \u001b[1;33m=\u001b[0m \u001b[0mself\u001b[0m\u001b[1;33m.\u001b[0m\u001b[0mlayers\u001b[0m\u001b[1;33m[\u001b[0m\u001b[0mi\u001b[0m\u001b[1;33m]\u001b[0m\u001b[1;33m.\u001b[0m\u001b[0mlearn\u001b[0m\u001b[1;33m(\u001b[0m\u001b[0msigmas\u001b[0m\u001b[1;33m)\u001b[0m\u001b[1;33m\u001b[0m\u001b[0m\n\u001b[0m",
      "\u001b[1;32m<ipython-input-2-5d9d8bc6290a>\u001b[0m in \u001b[0;36mlearn\u001b[1;34m(self, sigmas)\u001b[0m\n\u001b[0;32m     28\u001b[0m                 \u001b[1;32mfor\u001b[0m \u001b[0mi\u001b[0m \u001b[1;32min\u001b[0m \u001b[0mrange\u001b[0m\u001b[1;33m(\u001b[0m\u001b[0mself\u001b[0m\u001b[1;33m.\u001b[0m\u001b[0mnxt\u001b[0m\u001b[1;33m.\u001b[0m\u001b[0mn_neurons\u001b[0m\u001b[1;33m)\u001b[0m\u001b[1;33m:\u001b[0m\u001b[1;33m\u001b[0m\u001b[0m\n\u001b[0;32m     29\u001b[0m                     \u001b[0mnxt_wt\u001b[0m\u001b[1;33m[\u001b[0m\u001b[0mi\u001b[0m\u001b[1;33m]\u001b[0m \u001b[1;33m=\u001b[0m \u001b[0mself\u001b[0m\u001b[1;33m.\u001b[0m\u001b[0mnxt\u001b[0m\u001b[1;33m.\u001b[0m\u001b[0mneurons\u001b[0m\u001b[1;33m[\u001b[0m\u001b[0mi\u001b[0m\u001b[1;33m]\u001b[0m\u001b[1;33m.\u001b[0m\u001b[0mweights\u001b[0m\u001b[1;33m[\u001b[0m\u001b[0mk\u001b[0m\u001b[1;33m]\u001b[0m\u001b[1;33m\u001b[0m\u001b[0m\n\u001b[1;32m---> 30\u001b[1;33m                 \u001b[0mself\u001b[0m\u001b[1;33m.\u001b[0m\u001b[0msigmas\u001b[0m\u001b[1;33m[\u001b[0m\u001b[0mk\u001b[0m\u001b[1;33m]\u001b[0m \u001b[1;33m=\u001b[0m \u001b[0mself\u001b[0m\u001b[1;33m.\u001b[0m\u001b[0mneurons\u001b[0m\u001b[1;33m[\u001b[0m\u001b[0mk\u001b[0m\u001b[1;33m]\u001b[0m\u001b[1;33m.\u001b[0m\u001b[0mlearn\u001b[0m\u001b[1;33m(\u001b[0m\u001b[0mself\u001b[0m\u001b[1;33m.\u001b[0m\u001b[0min_signal\u001b[0m\u001b[1;33m,\u001b[0m \u001b[0msigmas\u001b[0m\u001b[1;33m,\u001b[0m \u001b[0mnxt_wt\u001b[0m\u001b[1;33m)\u001b[0m\u001b[1;33m\u001b[0m\u001b[0m\n\u001b[0m\u001b[0;32m     31\u001b[0m             \u001b[1;32mreturn\u001b[0m \u001b[0mself\u001b[0m\u001b[1;33m.\u001b[0m\u001b[0msigmas\u001b[0m\u001b[1;33m\u001b[0m\u001b[0m\n\u001b[0;32m     32\u001b[0m \u001b[1;33m\u001b[0m\u001b[0m\n",
      "\u001b[1;32m<ipython-input-1-db8cd3ba11d6>\u001b[0m in \u001b[0;36mlearn\u001b[1;34m(self, sample, sigma, nxt_wt)\u001b[0m\n\u001b[0;32m     24\u001b[0m         \u001b[1;32melse\u001b[0m\u001b[1;33m:\u001b[0m\u001b[1;33m\u001b[0m\u001b[0m\n\u001b[0;32m     25\u001b[0m             \u001b[1;32mfor\u001b[0m \u001b[0mi\u001b[0m\u001b[1;33m,\u001b[0m \u001b[0me\u001b[0m \u001b[1;32min\u001b[0m \u001b[0menumerate\u001b[0m\u001b[1;33m(\u001b[0m\u001b[0mself\u001b[0m\u001b[1;33m.\u001b[0m\u001b[0mweights\u001b[0m\u001b[1;33m)\u001b[0m\u001b[1;33m:\u001b[0m\u001b[1;33m\u001b[0m\u001b[0m\n\u001b[1;32m---> 26\u001b[1;33m                 \u001b[0mself\u001b[0m\u001b[1;33m.\u001b[0m\u001b[0mweights\u001b[0m\u001b[1;33m[\u001b[0m\u001b[0mi\u001b[0m\u001b[1;33m]\u001b[0m \u001b[1;33m-=\u001b[0m \u001b[0mself\u001b[0m\u001b[1;33m.\u001b[0m\u001b[0malpha\u001b[0m \u001b[1;33m*\u001b[0m \u001b[0msum\u001b[0m\u001b[1;33m(\u001b[0m\u001b[0msigma\u001b[0m \u001b[1;33m*\u001b[0m \u001b[0mnxt_wt\u001b[0m\u001b[1;33m)\u001b[0m \u001b[1;33m*\u001b[0m \u001b[0mself\u001b[0m\u001b[1;33m.\u001b[0m\u001b[0mout\u001b[0m \u001b[1;33m*\u001b[0m \u001b[1;33m(\u001b[0m\u001b[1;36m1\u001b[0m \u001b[1;33m-\u001b[0m \u001b[0mself\u001b[0m\u001b[1;33m.\u001b[0m\u001b[0mout\u001b[0m\u001b[1;33m)\u001b[0m \u001b[1;33m*\u001b[0m \u001b[0msample\u001b[0m\u001b[1;33m[\u001b[0m\u001b[0mi\u001b[0m\u001b[1;33m]\u001b[0m\u001b[1;33m\u001b[0m\u001b[0m\n\u001b[0m\u001b[0;32m     27\u001b[0m             \u001b[0msigma\u001b[0m \u001b[1;33m=\u001b[0m \u001b[0msum\u001b[0m\u001b[1;33m(\u001b[0m\u001b[0msigma\u001b[0m \u001b[1;33m*\u001b[0m \u001b[0mnxt_wt\u001b[0m\u001b[1;33m)\u001b[0m \u001b[1;33m*\u001b[0m \u001b[0mderivative\u001b[0m\u001b[1;33m(\u001b[0m\u001b[0mself\u001b[0m\u001b[1;33m.\u001b[0m\u001b[0mactvF\u001b[0m\u001b[1;33m,\u001b[0m \u001b[0msum\u001b[0m\u001b[1;33m(\u001b[0m\u001b[0mself\u001b[0m\u001b[1;33m.\u001b[0m\u001b[0mweights\u001b[0m \u001b[1;33m*\u001b[0m \u001b[0msample\u001b[0m\u001b[1;33m)\u001b[0m\u001b[1;33m)\u001b[0m\u001b[1;33m\u001b[0m\u001b[0m\n\u001b[0;32m     28\u001b[0m         \u001b[1;32mreturn\u001b[0m \u001b[0msigma\u001b[0m\u001b[1;33m\u001b[0m\u001b[0m\n",
      "\u001b[1;31mKeyboardInterrupt\u001b[0m: "
     ]
    }
   ],
   "source": [
    "for epoch in range(3):\n",
    "    print('Epoch', epoch)\n",
    "    for i in range(len(y_train)):\n",
    "        if i % 100 == 0:\n",
    "            print(i / len(y_train) * 100, '%')\n",
    "        answer = labelToArray(y_train[i])\n",
    "        net.process(X_train[i])\n",
    "        net.learn(answer)"
   ]
  },
  {
   "cell_type": "code",
   "execution_count": 22,
   "metadata": {
    "collapsed": false
   },
   "outputs": [
    {
     "name": "stdout",
     "output_type": "stream",
     "text": [
      "0.0909090909091\n"
     ]
    }
   ],
   "source": [
    "answers = np.empty(len(y_test))\n",
    "for i in range(len(y_test)):\n",
    "    ans = net.process(X_test[i])\n",
    "    if y_test[i] == arrayToLabel(ans):\n",
    "        answers[i] = True\n",
    "    else:\n",
    "        answers[i] = False\n",
    "        \n",
    "print(sum(answers) / len(y_test))"
   ]
  },
  {
   "cell_type": "code",
   "execution_count": null,
   "metadata": {
    "collapsed": true
   },
   "outputs": [],
   "source": []
  }
 ],
 "metadata": {
  "kernelspec": {
   "display_name": "Python 3",
   "language": "python",
   "name": "python3"
  },
  "language_info": {
   "codemirror_mode": {
    "name": "ipython",
    "version": 3
   },
   "file_extension": ".py",
   "mimetype": "text/x-python",
   "name": "python",
   "nbconvert_exporter": "python",
   "pygments_lexer": "ipython3",
   "version": "3.4.3"
  }
 },
 "nbformat": 4,
 "nbformat_minor": 0
}
